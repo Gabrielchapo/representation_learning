{
 "cells": [
  {
   "cell_type": "code",
   "execution_count": null,
   "metadata": {},
   "outputs": [],
   "source": [
    "import pandas as pd\n",
    "import numpy as np\n",
    "from pydicom import dcmread\n",
    "import pydicom_seg\n",
    "import SimpleITK as sitk\n",
    "import dicom2nifti\n",
    "import glob"
   ]
  },
  {
   "cell_type": "code",
   "execution_count": null,
   "metadata": {},
   "outputs": [],
   "source": [
    "metadata = pd.read_csv('../data/manifest-1603198545583/metadata.csv')\n",
    "metadata['File Location'] = '../data/manifest-1603198545583'  + metadata['File Location'].str[1:]\n",
    "SEG_metadata = metadata[metadata['Manufacturer'] == 'SEG']\n",
    "RTSTRUCT_metadata = metadata[metadata['Manufacturer'] == 'RTSTRUCT']\n",
    "CT_metadata = metadata[metadata['Manufacturer'] == 'CT']"
   ]
  },
  {
   "cell_type": "code",
   "execution_count": null,
   "metadata": {},
   "outputs": [],
   "source": [
    "def get3D(paths):\n",
    "    # load the DICOM files\n",
    "    files = []\n",
    "\n",
    "    for fname in paths:\n",
    "        files.append(dcmread(fname))\n",
    "\n",
    "    print(\"file count: {}\".format(len(files)))\n",
    "\n",
    "    # skip files with no SliceLocation (eg scout views)\n",
    "    slices = []\n",
    "    skipcount = 0\n",
    "    for f in files:\n",
    "        if hasattr(f, 'SliceLocation'):\n",
    "            slices.append(f)\n",
    "        else:\n",
    "            skipcount = skipcount + 1\n",
    "\n",
    "    print(\"skipped, no SliceLocation: {}\".format(skipcount))\n",
    "\n",
    "    # ensure they are in the correct order\n",
    "    slices = sorted(slices, key=lambda s: s.SliceLocation)\n",
    "\n",
    "    # pixel aspects, assuming all slices are the same\n",
    "    ps = slices[0].PixelSpacing\n",
    "    ss = slices[0].SliceThickness\n",
    "    ax_aspect = ps[1]/ps[0]\n",
    "    sag_aspect = ps[1]/ss\n",
    "    cor_aspect = ss/ps[0]\n",
    "\n",
    "    # create 3D array\n",
    "    img_shape = list(slices[0].pixel_array.shape)\n",
    "    img_shape.append(len(slices))\n",
    "    img3d = np.zeros(img_shape)\n",
    "\n",
    "    # fill 3D array with the imaæes from the files\n",
    "    for i, s in enumerate(slices):\n",
    "        img2d = s.pixel_array\n",
    "        img3d[:, :, i] = img2d\n",
    "    \n",
    "    return img3d"
   ]
  },
  {
   "cell_type": "code",
   "execution_count": null,
   "metadata": {},
   "outputs": [],
   "source": [
    "!mkdir ../data/preprocessed\n",
    "!mkdir ../data/preprocessed/img\n",
    "!mkdir ../data/preprocessed/seg"
   ]
  },
  {
   "cell_type": "code",
   "execution_count": null,
   "metadata": {},
   "outputs": [],
   "source": [
    "dicom2nifti.settings.disable_validate_slice_increment()"
   ]
  },
  {
   "cell_type": "markdown",
   "metadata": {},
   "source": [
    "## CT scan"
   ]
  },
  {
   "cell_type": "code",
   "execution_count": null,
   "metadata": {},
   "outputs": [],
   "source": [
    "for s_id in CT_metadata['Subject ID'].values:\n",
    "    print(CT_metadata[CT_metadata['Subject ID'] == s_id][\"Data Description URI\"].values[0], end=\" \")\n",
    "    input_path = CT_metadata[CT_metadata['Subject ID'] == s_id]['File Location'].values[0]\n",
    "    output_path = CT_metadata[CT_metadata['Subject ID'] == s_id][\"Data Description URI\"].values[0]\n",
    "    dicom2nifti.dicom_series_to_nifti(input_path, f'../data/preprocessed/img/{output_path}', reorient_nifti=False)"
   ]
  },
  {
   "cell_type": "markdown",
   "metadata": {},
   "source": [
    "## Segments"
   ]
  },
  {
   "cell_type": "code",
   "execution_count": null,
   "metadata": {},
   "outputs": [],
   "source": [
    "for s_id in SEG_metadata['Subject ID'].values:\n",
    "    patient = SEG_metadata[SEG_metadata['Subject ID'] == s_id][\"Data Description URI\"].values[0]\n",
    "    print(patient, end=\" \")\n",
    "        \n",
    "    path = glob.glob(SEG_metadata[SEG_metadata['Subject ID'] == s_id]['File Location'].values[0] + '/*')[0]\n",
    "    dcm = dcmread(path)\n",
    "    \n",
    "    # to access the name of the body part\n",
    "    \n",
    "    elem = dcm[0x0062, 0x0002]\n",
    "\n",
    "    reader = pydicom_seg.SegmentReader()\n",
    "    result = reader.read(dcm)\n",
    "    \n",
    "\n",
    "    for i, segment_number in enumerate(result.available_segments):\n",
    "        \n",
    "        # anat = anatomy\n",
    "        anat = elem.value[i][0x0062, 0x0006].value\n",
    "\n",
    "        seg = result.segment_image(segment_number)  # lazy construction\n",
    "        sitk.WriteImage(seg, f'../data/preprocessed/seg/{patient}-{segment_number}-{anat}.nii', True)\n"
   ]
  },
  {
   "cell_type": "code",
   "execution_count": null,
   "metadata": {},
   "outputs": [],
   "source": []
  }
 ],
 "metadata": {
  "interpreter": {
   "hash": "07429fcb4c504a0378980367d3c7fce80391802e4a36d1633a5a7bb6cd53a327"
  },
  "kernelspec": {
   "display_name": "Python 3.8.8 ('base')",
   "language": "python",
   "name": "python3"
  },
  "language_info": {
   "codemirror_mode": {
    "name": "ipython",
    "version": 3
   },
   "file_extension": ".py",
   "mimetype": "text/x-python",
   "name": "python",
   "nbconvert_exporter": "python",
   "pygments_lexer": "ipython3",
   "version": "3.8.8"
  },
  "orig_nbformat": 4
 },
 "nbformat": 4,
 "nbformat_minor": 2
}
